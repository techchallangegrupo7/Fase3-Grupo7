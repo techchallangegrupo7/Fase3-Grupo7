{
  "cells": [
    {
      "cell_type": "markdown",
      "metadata": {},
      "source": [
        "# 🧠 Preparação de Dataset para Fine-Tuning\n",
        "\n",
        "Este notebook realiza o seguinte processo:\n",
        "- Verifica e instala a dependência `gdown`.\n",
        "- Baixa o arquivo `trn.json` do Google Drive (caso não esteja presente).\n",
        "- Processa o arquivo JSON e gera um arquivo `.jsonl` compatível com modelos de linguagem.\n",
        "- Gera um relatório detalhado sobre as linhas processadas e ignoradas."
      ]
    },
    {
      "cell_type": "markdown",
      "id": "caa2c763",
      "metadata": {},
      "source": [
        "### 📦 Instalação da biblioteca `gdown`\n",
        "Esta célula verifica se a biblioteca `gdown` está instalada. Caso não esteja, ela será instalada automaticamente. Essa biblioteca é usada para baixar arquivos diretamente do Google Drive."
      ]
    },
    {
      "cell_type": "code",
      "execution_count": null,
      "id": "cb94aca5",
      "metadata": {},
      "outputs": [],
      "source": [
        "# 📦 Instalação da dependência gdown (caso necessário)\n",
        "import subprocess\n",
        "import sys\n",
        "\n",
        "try:\n",
        "    import gdown\n",
        "except ImportError:\n",
        "    subprocess.check_call([sys.executable, \"-m\", \"pip\", \"install\", \"gdown\"])\n",
        "    import gdown"
      ]
    },
    {
      "cell_type": "markdown",
      "id": "09d9da37",
      "metadata": {},
      "source": [
        "### 📁 Verificação e Download do Arquivo\n",
        "Aqui verificamos se o arquivo `trn.json` já existe no diretório. Se não existir, ele será baixado do Google Drive utilizando o `gdown`."
      ]
    },
    {
      "cell_type": "code",
      "execution_count": null,
      "id": "3db9f363",
      "metadata": {},
      "outputs": [],
      "source": [
        "# 📁 Verificação e download do arquivo JSON de entrada\n",
        "import os\n",
        "\n",
        "file_id = \"1kq9bSDUfj0sxGO6C9bb95EYWtey6Smf_\"\n",
        "output = \"trn.json\"\n",
        "\n",
        "if not os.path.exists(output):\n",
        "    print(\"⬇️ Arquivo não encontrado. Iniciando download...\")\n",
        "    gdown.download(f\"https://drive.google.com/uc?id={file_id}\", output, quiet=False)\n",
        "else:\n",
        "    print(\"✅ Arquivo já existe. Pulando download.\")"
      ]
    },
    {
      "cell_type": "markdown",
      "id": "953944b7",
      "metadata": {},
      "source": [
        "### 🛠️ Função de Preparação do Dataset\n",
        "Esta função percorre linha a linha do arquivo JSON de entrada, transformando em JSONL formatado para fine-tuning. Ela também conta e relata registros inválidos, como JSON malformado, título ou descrição vazios."
      ]
    },
    {
      "cell_type": "code",
      "execution_count": null,
      "id": "24f5da29",
      "metadata": {},
      "outputs": [],
      "source": [
        "# 🛠️ Função para preparar o dataset em formato jsonl\n",
        "import json\n",
        "\n",
        "def preparar_dataset_jsonl(caminho_entrada, caminho_saida):\n",
        "    contador = 0\n",
        "    ignorados_total = 0\n",
        "    erros_json = 0\n",
        "    titulos_vazios = 0\n",
        "    descricoes_vazias = 0\n",
        "\n",
        "    with open(caminho_entrada, 'r', encoding='utf-8') as f_in, \\\n",
        "         open(caminho_saida, 'w', encoding='utf-8') as f_out:\n",
        "\n",
        "        for linha in f_in:\n",
        "            try:\n",
        "                item = json.loads(linha)\n",
        "                titulo = item.get(\"title\", \"\").strip()\n",
        "                descricao = item.get(\"content\", \"\").strip()\n",
        "\n",
        "                if not titulo:\n",
        "                    titulos_vazios += 1\n",
        "                    ignorados_total += 1\n",
        "                    continue\n",
        "\n",
        "                if not descricao:\n",
        "                    descricoes_vazias += 1\n",
        "                    ignorados_total += 1\n",
        "                    continue\n",
        "\n",
        "                prompt = f\"O que é {titulo}?\"\n",
        "                completion = descricao\n",
        "                f_out.write(json.dumps({\n",
        "                    \"prompt\": prompt,\n",
        "                    \"completion\": completion\n",
        "                }, ensure_ascii=False) + '\\n')\n",
        "                contador += 1\n",
        "\n",
        "            except json.JSONDecodeError:\n",
        "                erros_json += 1\n",
        "                ignorados_total += 1\n",
        "\n",
        "    print(\"✅ Dataset gerado com sucesso!\")\n",
        "    print(f\"📄 Linhas válidas: {contador}\")\n",
        "    print(f\"🚫 Linhas ignoradas: {ignorados_total}\")\n",
        "    print(f\"   └─ 🧨 Erros de JSON: {erros_json}\")\n",
        "    print(f\"   └─ ❌ Títulos vazios: {titulos_vazios}\")\n",
        "    print(f\"   └─ ❌ Descrições vazias: {descricoes_vazias}\")\n",
        "    print(f\"💾 Arquivo salvo em: {caminho_saida}\")"
      ]
    },
    {
      "cell_type": "markdown",
      "id": "2838d7d8",
      "metadata": {},
      "source": [
        "### 🚀 Execução da Função de Processamento\n",
        "Executa a função definida anteriormente para gerar o arquivo `dataset_preparado.jsonl`, com estatísticas de sucesso e erro."
      ]
    },
    {
      "cell_type": "code",
      "execution_count": null,
      "metadata": {},
      "outputs": [],
      "source": [
        "# 🚀 Execução da função de preparação de dataset\n",
        "CAMINHO_JSON = \"trn.json\"\n",
        "SAIDA_JSONL = \"dataset_preparado.jsonl\"\n",
        "\n",
        "preparar_dataset_jsonl(CAMINHO_JSON, SAIDA_JSONL)"
      ]
    }
  ],
  "metadata": {
    "kernelspec": {
      "display_name": "Python 3",
      "language": "python",
      "name": "python3"
    },
    "language_info": {
      "name": "python",
      "version": "3.11.8"
    }
  },
  "nbformat": 4,
  "nbformat_minor": 5
}
