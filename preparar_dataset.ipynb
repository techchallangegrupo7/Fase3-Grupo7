{
  "cells": [
    {
      "cell_type": "markdown",
      "id": "e66a6c95",
      "metadata": {
        "id": "e66a6c95"
      },
      "source": [
        "# 🔽 Extração e Preparação do Dataset `trn.json` do Google Drive\n",
        "Este notebook realiza as seguintes etapas:\n",
        "1. Instala o pacote `gdown` caso não esteja instalado;\n",
        "2. Baixa um arquivo `.zip` do Google Drive;\n",
        "3. Extrai apenas o arquivo `trn.json` de dentro do `.zip`;\n",
        "4. Remove o `.zip` para economizar espaço em disco;\n",
        "5. Converte o `trn.json` para o formato `.jsonl` com campos `prompt` e `completion`.\n"
      ]
    },
    {
      "cell_type": "code",
      "execution_count": 1,
      "id": "17ffddf5",
      "metadata": {
        "id": "17ffddf5"
      },
      "outputs": [],
      "source": [
        "# Instala o gdown automaticamente se necessário\n",
        "import subprocess, sys\n",
        "\n",
        "try:\n",
        "    import gdown\n",
        "except ImportError:\n",
        "    subprocess.check_call([sys.executable, \"-m\", \"pip\", \"install\", \"gdown\"])\n",
        "    import gdown"
      ]
    },
    {
      "cell_type": "markdown",
      "id": "757c1718",
      "metadata": {
        "id": "757c1718"
      },
      "source": [
        "## 📁 Baixando o ZIP do Google Drive\n",
        "Vamos usar o `gdown` para baixar o arquivo `.zip` diretamente de um link público do Google Drive.\n"
      ]
    },
    {
      "cell_type": "code",
      "execution_count": 2,
      "id": "bf6b348b",
      "metadata": {
        "colab": {
          "base_uri": "https://localhost:8080/",
          "height": 142
        },
        "id": "bf6b348b",
        "outputId": "8d8def0d-f55f-4359-f3fe-bdcbac94233a"
      },
      "outputs": [
        {
          "name": "stderr",
          "output_type": "stream",
          "text": [
            "Downloading...\n",
            "From (original): https://drive.google.com/uc?id=12zH4mL2RX8iSvH0VCNnd3QxO4DzuHWnK\n",
            "From (redirected): https://drive.google.com/uc?id=12zH4mL2RX8iSvH0VCNnd3QxO4DzuHWnK&confirm=t&uuid=f585b628-e3b6-4bc3-81fa-21c27c0e8dfc\n",
            "To: /content/dados.zip\n",
            "100%|██████████| 890M/890M [00:13<00:00, 66.8MB/s]\n"
          ]
        },
        {
          "data": {
            "application/vnd.google.colaboratory.intrinsic+json": {
              "type": "string"
            },
            "text/plain": [
              "'dados.zip'"
            ]
          },
          "execution_count": 2,
          "metadata": {},
          "output_type": "execute_result"
        }
      ],
      "source": [
        "zip_file_id = \"12zH4mL2RX8iSvH0VCNnd3QxO4DzuHWnK\"\n",
        "zip_output = \"dados.zip\"\n",
        "\n",
        "# Baixa o arquivo ZIP\n",
        "gdown.download(f\"https://drive.google.com/uc?id={zip_file_id}\", zip_output, quiet=False)"
      ]
    },
    {
      "cell_type": "markdown",
      "id": "814923db",
      "metadata": {
        "id": "814923db"
      },
      "source": [
        "## 📦 Extraindo apenas o `trn.json` do ZIP\n",
        "Usamos o módulo `zipfile` da biblioteca padrão para extrair somente o arquivo desejado.\n"
      ]
    },
    {
      "cell_type": "code",
      "execution_count": 4,
      "id": "2462d78b",
      "metadata": {
        "colab": {
          "base_uri": "https://localhost:8080/"
        },
        "id": "2462d78b",
        "outputId": "31361afa-e067-4d43-9a1d-fb121f48bae3"
      },
      "outputs": [
        {
          "name": "stdout",
          "output_type": "stream",
          "text": [
            "✅ Arquivo extraído: trn.json.gz\n",
            "📂 Arquivo GZ descompactado para: trn.json\n",
            "🗑️ Pasta removida: .config\n",
            "🗑️ Pasta removida: LF-Amazon-1.3M\n",
            "🗑️ Arquivo removido: dados.zip\n"
          ]
        }
      ],
      "source": [
        "import zipfile\n",
        "import os\n",
        "import shutil\n",
        "import gzip\n",
        "\n",
        "caminho_zip = \"dados.zip\"\n",
        "texto_desejado = \"trn.json\"\n",
        "extraido = None\n",
        "nome_final = None\n",
        "\n",
        "# Etapa 1: Abrir e localizar arquivo com 'trn.json'\n",
        "with zipfile.ZipFile(caminho_zip, 'r') as zip_ref:\n",
        "    for arquivo in zip_ref.namelist():\n",
        "        if texto_desejado in os.path.basename(arquivo):\n",
        "            zip_ref.extract(arquivo)\n",
        "            nome_extraido = os.path.basename(arquivo)\n",
        "            shutil.move(arquivo, nome_extraido)\n",
        "            extraido = nome_extraido\n",
        "            print(f\"✅ Arquivo extraído: {extraido}\")\n",
        "            break\n",
        "\n",
        "# Etapa 2: Descompactar .gz se necessário\n",
        "if extraido:\n",
        "    if extraido.endswith('.gz'):\n",
        "        nome_final = extraido.replace('.gz', '')\n",
        "        with gzip.open(extraido, 'rb') as f_in, open(nome_final, 'wb') as f_out:\n",
        "            shutil.copyfileobj(f_in, f_out)\n",
        "        os.remove(extraido)\n",
        "        print(f\"📂 Arquivo GZ descompactado para: {nome_final}\")\n",
        "    elif extraido.endswith('.json'):\n",
        "        nome_final = extraido\n",
        "        print(f\"📄 Arquivo JSON pronto para uso: {extraido}\")\n",
        "    else:\n",
        "        print(f\"⚠️ Extensão desconhecida: {extraito}\")\n",
        "else:\n",
        "    print(\"❌ Nenhum arquivo contendo 'trn.json' foi encontrado.\")\n",
        "\n",
        "# Etapa 3: Limpeza de arquivos e pastas desnecessárias (exceto sample_data)\n",
        "if nome_final:\n",
        "    for item in os.listdir():\n",
        "        if item != nome_final and not item.endswith('.ipynb') and item != 'sample_data':\n",
        "            item_path = os.path.join(os.getcwd(), item)\n",
        "            try:\n",
        "                if os.path.isfile(item_path):\n",
        "                    os.remove(item_path)\n",
        "                    print(f\"🗑️ Arquivo removido: {item}\")\n",
        "                elif os.path.isdir(item_path):\n",
        "                    shutil.rmtree(item_path)\n",
        "                    print(f\"🗑️ Pasta removida: {item}\")\n",
        "            except Exception as e:\n",
        "                print(f\"⚠️ Erro ao remover {item}: {e}\")\n"
      ]
    },
    {
      "cell_type": "markdown",
      "id": "1bbb129c",
      "metadata": {
        "id": "1bbb129c"
      },
      "source": [
        "## 📄 Função para preparar o JSONL\n",
        "Transformamos o `trn.json` em um arquivo `.jsonl` contendo `prompt` e `completion`, ideal para fine-tuning de modelos de linguagem.\n"
      ]
    },
    {
      "cell_type": "code",
      "execution_count": null,
      "id": "2c0de16a",
      "metadata": {
        "id": "2c0de16a"
      },
      "outputs": [],
      "source": [
        "# 🛠️ Função para preparar o dataset em formato jsonl\n",
        "import json\n",
        "\n",
        "def preparar_dataset_jsonl(caminho_entrada, caminho_saida):\n",
        "    contador = 0\n",
        "    ignorados_total = 0\n",
        "    erros_json = 0\n",
        "    titulos_vazios = 0\n",
        "    descricoes_vazias = 0\n",
        "\n",
        "    with open(caminho_entrada, 'r', encoding='utf-8') as f_in, \\\n",
        "         open(caminho_saida, 'w', encoding='utf-8') as f_out:\n",
        "\n",
        "        for linha in f_in:\n",
        "            try:\n",
        "                item = json.loads(linha)\n",
        "                titulo = item.get(\"title\", \"\").strip()\n",
        "                descricao = item.get(\"content\", \"\").strip()\n",
        "\n",
        "                if not titulo:\n",
        "                    titulos_vazios += 1\n",
        "                    ignorados_total += 1\n",
        "                    continue\n",
        "\n",
        "                if not descricao:\n",
        "                    descricoes_vazias += 1\n",
        "                    ignorados_total += 1\n",
        "                    continue\n",
        "\n",
        "                prompt = f\"O que é {titulo}?\"\n",
        "                completion = descricao\n",
        "                f_out.write(json.dumps({\n",
        "                    \"prompt\": prompt,\n",
        "                    \"completion\": completion\n",
        "                }, ensure_ascii=False) + '\\n')\n",
        "                contador += 1\n",
        "\n",
        "            except json.JSONDecodeError:\n",
        "                erros_json += 1\n",
        "                ignorados_total += 1\n",
        "\n",
        "    print(\"✅ Dataset gerado com sucesso!\")\n",
        "    print(f\"📄 Linhas válidas: {contador}\")\n",
        "    print(f\"🚫 Linhas ignoradas: {ignorados_total}\")\n",
        "    print(f\"   └─ 🧨 Erros de JSON: {erros_json}\")\n",
        "    print(f\"   └─ ❌ Títulos vazios: {titulos_vazios}\")\n",
        "    print(f\"   └─ ❌ Descrições vazias: {descricoes_vazias}\")\n",
        "    print(f\"💾 Arquivo salvo em: {caminho_saida}\")"
      ]
    },
    {
      "cell_type": "markdown",
      "id": "3b2797e0",
      "metadata": {
        "id": "3b2797e0"
      },
      "source": [
        "## ▶️ Executando a Preparação dos Dados\n"
      ]
    },
    {
      "cell_type": "code",
      "execution_count": null,
      "id": "1985c630",
      "metadata": {
        "id": "1985c630"
      },
      "outputs": [],
      "source": [
        "CAMINHO_JSON = \"trn.json\"\n",
        "SAIDA_JSONL = \"dataset_preparado.jsonl\"\n",
        "preparar_dataset_jsonl(CAMINHO_JSON, SAIDA_JSONL)"
      ]
    }
  ],
  "metadata": {
    "colab": {
      "provenance": []
    },
    "kernelspec": {
      "display_name": "Python 3",
      "name": "python3"
    },
    "language_info": {
      "name": "python"
    }
  },
  "nbformat": 4,
  "nbformat_minor": 5
}
