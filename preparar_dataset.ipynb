{
  "cells": [
    {
      "cell_type": "markdown",
      "metadata": {},
      "source": [
        "# \ud83e\udde0 Prepara\u00e7\u00e3o de Dataset para Fine-Tuning\n",
        "\n",
        "Este notebook realiza o seguinte processo:\n",
        "- Verifica e instala a depend\u00eancia `gdown`.\n",
        "- Baixa o arquivo `trn.json` do Google Drive (caso n\u00e3o esteja presente).\n",
        "- Processa o arquivo JSON e gera um arquivo `.jsonl` compat\u00edvel com modelos de linguagem.\n",
        "- Gera um relat\u00f3rio detalhado sobre as linhas processadas e ignoradas."
      ]
    },
    {
      "cell_type": "code",
      "execution_count": null,
      "metadata": {},
      "outputs": [],
      "source": [
        "# \ud83d\udce6 Instala\u00e7\u00e3o da depend\u00eancia gdown (caso necess\u00e1rio)\n",
        "import subprocess\n",
        "import sys\n",
        "\n",
        "try:\n",
        "    import gdown\n",
        "except ImportError:\n",
        "    subprocess.check_call([sys.executable, \"-m\", \"pip\", \"install\", \"gdown\"])\n",
        "    import gdown"
      ]
    },
    {
      "cell_type": "code",
      "execution_count": null,
      "metadata": {},
      "outputs": [],
      "source": [
        "# \ud83d\udcc1 Verifica\u00e7\u00e3o e download do arquivo JSON de entrada\n",
        "import os\n",
        "\n",
        "file_id = \"1kq9bSDUfj0sxGO6C9bb95EYWtey6Smf_\"\n",
        "output = \"trn.json\"\n",
        "\n",
        "if not os.path.exists(output):\n",
        "    print(\"\u2b07\ufe0f Arquivo n\u00e3o encontrado. Iniciando download...\")\n",
        "    gdown.download(f\"https://drive.google.com/uc?id={file_id}\", output, quiet=False)\n",
        "else:\n",
        "    print(\"\u2705 Arquivo j\u00e1 existe. Pulando download.\")"
      ]
    },
    {
      "cell_type": "code",
      "execution_count": null,
      "metadata": {},
      "outputs": [],
      "source": [
        "# \ud83d\udee0\ufe0f Fun\u00e7\u00e3o para preparar o dataset em formato jsonl\n",
        "import json\n",
        "\n",
        "def preparar_dataset_jsonl(caminho_entrada, caminho_saida):\n",
        "    contador = 0\n",
        "    ignorados_total = 0\n",
        "    erros_json = 0\n",
        "    titulos_vazios = 0\n",
        "    descricoes_vazias = 0\n",
        "\n",
        "    with open(caminho_entrada, 'r', encoding='utf-8') as f_in, \\\n",
        "         open(caminho_saida, 'w', encoding='utf-8') as f_out:\n",
        "\n",
        "        for linha in f_in:\n",
        "            try:\n",
        "                item = json.loads(linha)\n",
        "                titulo = item.get(\"title\", \"\").strip()\n",
        "                descricao = item.get(\"content\", \"\").strip()\n",
        "\n",
        "                if not titulo:\n",
        "                    titulos_vazios += 1\n",
        "                    ignorados_total += 1\n",
        "                    continue\n",
        "\n",
        "                if not descricao:\n",
        "                    descricoes_vazias += 1\n",
        "                    ignorados_total += 1\n",
        "                    continue\n",
        "\n",
        "                prompt = f\"O que \u00e9 {titulo}?\"\n",
        "                completion = descricao\n",
        "                f_out.write(json.dumps({\n",
        "                    \"prompt\": prompt,\n",
        "                    \"completion\": completion\n",
        "                }, ensure_ascii=False) + '\\n')\n",
        "                contador += 1\n",
        "\n",
        "            except json.JSONDecodeError:\n",
        "                erros_json += 1\n",
        "                ignorados_total += 1\n",
        "\n",
        "    print(\"\u2705 Dataset gerado com sucesso!\")\n",
        "    print(f\"\ud83d\udcc4 Linhas v\u00e1lidas: {contador}\")\n",
        "    print(f\"\ud83d\udeab Linhas ignoradas: {ignorados_total}\")\n",
        "    print(f\"   \u2514\u2500 \ud83e\udde8 Erros de JSON: {erros_json}\")\n",
        "    print(f\"   \u2514\u2500 \u274c T\u00edtulos vazios: {titulos_vazios}\")\n",
        "    print(f\"   \u2514\u2500 \u274c Descri\u00e7\u00f5es vazias: {descricoes_vazias}\")\n",
        "    print(f\"\ud83d\udcbe Arquivo salvo em: {caminho_saida}\")"
      ]
    },
    {
      "cell_type": "code",
      "execution_count": null,
      "metadata": {},
      "outputs": [],
      "source": [
        "# \ud83d\ude80 Execu\u00e7\u00e3o da fun\u00e7\u00e3o de prepara\u00e7\u00e3o de dataset\n",
        "CAMINHO_JSON = \"trn.json\"\n",
        "SAIDA_JSONL = \"dataset_preparado.jsonl\"\n",
        "\n",
        "preparar_dataset_jsonl(CAMINHO_JSON, SAIDA_JSONL)"
      ]
    }
  ],
  "metadata": {
    "kernelspec": {
      "display_name": "Python 3",
      "language": "python",
      "name": "python3"
    },
    "language_info": {
      "name": "python",
      "version": "3.11.8"
    }
  },
  "nbformat": 4,
  "nbformat_minor": 5
}