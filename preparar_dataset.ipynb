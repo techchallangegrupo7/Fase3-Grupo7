{
 "cells": [
  {
   "cell_type": "markdown",
   "id": "717b0002",
   "metadata": {},
   "source": [
    "# 📄 Preparação de Dataset para Fine-Tuning\n",
    "Este notebook processa um arquivo `trn.json` contendo informações de produtos (título e descrição) e gera um novo arquivo `dataset_preparado.jsonl`, no formato ideal para fine-tuning de modelos de linguagem."
   ]
  },
  {
   "cell_type": "code",
   "execution_count": 1,
   "id": "dbe07db0",
   "metadata": {},
   "outputs": [],
   "source": [
    "import json"
   ]
  },
  {
   "cell_type": "markdown",
   "id": "85b8ce59",
   "metadata": {},
   "source": [
    "### 📌 Caminhos de entrada e saída\n",
    "Ajuste o caminho abaixo para apontar corretamente para o seu arquivo `trn.json`."
   ]
  },
  {
   "cell_type": "code",
   "execution_count": 2,
   "id": "8621e35e",
   "metadata": {},
   "outputs": [],
   "source": [
    "# Caminho completo para o arquivo 'trn.json' descompactado\n",
    "CAMINHO_JSON = r\"D:\\Drive\\Meu Drive\\Cursos - Pós\\Fiap - Póstech - 4IADT - IA para Devs\\Fase 3 - OpenAI - de 18-03-2025 a 27-05-2025\\Tech Challenge\\Github\\Fase3-Grupo7\\LF-Amazon-1.3M\\trn.json\"\n",
    "\n",
    "# Caminho onde será salvo o novo arquivo JSONL\n",
    "SAIDA_JSON = \"dataset_preparado.jsonl\"\n"
   ]
  },
  {
   "cell_type": "markdown",
   "id": "93bacc56",
   "metadata": {},
   "source": [
    "### 🧠 Função para preparar o dataset\n",
    "Esta função lê linha por linha do arquivo `trn.json`, filtra os dados válidos e grava o resultado no formato `prompt` / `completion`."
   ]
  },
  {
   "cell_type": "code",
   "execution_count": 3,
   "id": "3da6ae1d",
   "metadata": {},
   "outputs": [],
   "source": [
    "def preparar_dataset_jsonl(caminho_entrada, caminho_saida):\n",
    "    contador = 0\n",
    "    ignorados = 0\n",
    "\n",
    "    with open(caminho_entrada, 'r', encoding='utf-8') as f_in, \\\n",
    "         open(caminho_saida, 'w', encoding='utf-8') as f_out:\n",
    "\n",
    "        for linha in f_in:\n",
    "            try:\n",
    "                item = json.loads(linha)\n",
    "                titulo = item.get(\"title\", \"\").strip()\n",
    "                descricao = item.get(\"content\", \"\").strip()\n",
    "\n",
    "                if titulo and descricao:\n",
    "                    prompt = f\"O que é {titulo}?\"\n",
    "                    completion = descricao\n",
    "                    f_out.write(json.dumps({\n",
    "                        \"prompt\": prompt,\n",
    "                        \"completion\": completion\n",
    "                    }, ensure_ascii=False) + '\\n')\n",
    "                    contador += 1\n",
    "                else:\n",
    "                    ignorados += 1\n",
    "\n",
    "            except json.JSONDecodeError:\n",
    "                ignorados += 1\n",
    "                continue\n",
    "\n",
    "    print(f\"✅ Dataset gerado com sucesso!\")\n",
    "    print(f\"📄 Linhas válidas: {contador}\")\n",
    "    print(f\"🚫 Linhas ignoradas (sem conteúdo ou erro): {ignorados}\")\n",
    "    print(f\"💾 Arquivo salvo em: {caminho_saida}\")\n"
   ]
  },
  {
   "cell_type": "markdown",
   "id": "a06f7569",
   "metadata": {},
   "source": [
    "### ▶️ Executar a função"
   ]
  },
  {
   "cell_type": "code",
   "execution_count": 4,
   "id": "23e500ca",
   "metadata": {},
   "outputs": [
    {
     "name": "stdout",
     "output_type": "stream",
     "text": [
      "✅ Dataset gerado com sucesso!\n",
      "📄 Linhas válidas: 1390403\n",
      "🚫 Linhas ignoradas (sem conteúdo ou erro): 858216\n",
      "💾 Arquivo salvo em: dataset_preparado.jsonl\n"
     ]
    }
   ],
   "source": [
    "preparar_dataset_jsonl(CAMINHO_JSON, SAIDA_JSON)"
   ]
  }
 ],
 "metadata": {
  "kernelspec": {
   "display_name": "FIAP-Fase1",
   "language": "python",
   "name": "python3"
  },
  "language_info": {
   "codemirror_mode": {
    "name": "ipython",
    "version": 3
   },
   "file_extension": ".py",
   "mimetype": "text/x-python",
   "name": "python",
   "nbconvert_exporter": "python",
   "pygments_lexer": "ipython3",
   "version": "3.10.15"
  }
 },
 "nbformat": 4,
 "nbformat_minor": 5
}
